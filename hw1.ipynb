{
 "cells": [
  {
   "cell_type": "code",
   "execution_count": 1,
   "metadata": {},
   "outputs": [],
   "source": [
    "from os import listdir\n",
    "from os.path import isfile, join\n",
    "from string import punctuation\n",
    "from collections import Counter\n",
    "from nltk.stem import PorterStemmer"
   ]
  },
  {
   "cell_type": "code",
   "execution_count": 2,
   "metadata": {},
   "outputs": [],
   "source": [
    "ps = PorterStemmer()"
   ]
  },
  {
   "cell_type": "markdown",
   "metadata": {},
   "source": [
    "# Stopwords"
   ]
  },
  {
   "cell_type": "code",
   "execution_count": 3,
   "metadata": {},
   "outputs": [],
   "source": [
    "with open( './data/stopwords.txt', 'r' ) as f:\n",
    "    stopwords = f.readlines()\n",
    "stopwords = [ x.strip() for x in stopwords ] "
   ]
  },
  {
   "cell_type": "markdown",
   "metadata": {},
   "source": [
    "# Reading files"
   ]
  },
  {
   "cell_type": "code",
   "execution_count": 4,
   "metadata": {},
   "outputs": [],
   "source": [
    "mypath = './data/citeseer/'"
   ]
  },
  {
   "cell_type": "code",
   "execution_count": 5,
   "metadata": {},
   "outputs": [],
   "source": [
    "onlyfiles = [ f for f in listdir( mypath ) if isfile( join( mypath, f ) ) ]"
   ]
  },
  {
   "cell_type": "code",
   "execution_count": 6,
   "metadata": {},
   "outputs": [],
   "source": [
    "dict_files = []\n",
    "for file in onlyfiles:\n",
    "    with open( mypath + file, 'r' ) as myfile:\n",
    "        dict_files.append( { 'doc_id' : onlyfiles.index( file ), 'content' : myfile.read().replace( '\\n', '' ) } )"
   ]
  },
  {
   "cell_type": "code",
   "execution_count": 7,
   "metadata": {},
   "outputs": [
    {
     "name": "stdout",
     "output_type": "stream",
     "text": [
      "3186\n"
     ]
    }
   ],
   "source": [
    "num_files = len( dict_files )\n",
    "print( num_files )"
   ]
  },
  {
   "cell_type": "code",
   "execution_count": 8,
   "metadata": {},
   "outputs": [],
   "source": [
    "#dict_files[ 0 ]"
   ]
  },
  {
   "cell_type": "markdown",
   "metadata": {},
   "source": [
    "# Tokenization and removing punctuation"
   ]
  },
  {
   "cell_type": "code",
   "execution_count": 9,
   "metadata": {},
   "outputs": [
    {
     "data": {
      "text/plain": [
       "'!\"#$%&\\'()*+,-./:;<=>?@[\\\\]^_`{|}~'"
      ]
     },
     "execution_count": 9,
     "metadata": {},
     "output_type": "execute_result"
    }
   ],
   "source": [
    "punctuation"
   ]
  },
  {
   "cell_type": "code",
   "execution_count": 10,
   "metadata": {},
   "outputs": [],
   "source": [
    "dict_tokenized_files = []\n",
    "for file in dict_files:\n",
    "    words = ''.join( c.lower() for c in file[ 'content' ] if ( c not in punctuation ) ).split()\n",
    "    dict_tokenized_files.append( { 'doc_id' : file[ 'doc_id' ], 'words' : words } )"
   ]
  },
  {
   "cell_type": "code",
   "execution_count": 11,
   "metadata": {},
   "outputs": [
    {
     "data": {
      "text/plain": [
       "3186"
      ]
     },
     "execution_count": 11,
     "metadata": {},
     "output_type": "execute_result"
    }
   ],
   "source": [
    "# Number of documents\n",
    "len( dict_tokenized_files )"
   ]
  },
  {
   "cell_type": "code",
   "execution_count": 12,
   "metadata": {},
   "outputs": [
    {
     "name": "stdout",
     "output_type": "stream",
     "text": [
      "476198\n"
     ]
    }
   ],
   "source": [
    "# Total number of words in the collection\n",
    "total_words = 0\n",
    "for file in dict_tokenized_files:\n",
    "    total_words += len( file[ 'words' ] )\n",
    "print( total_words )"
   ]
  },
  {
   "cell_type": "markdown",
   "metadata": {},
   "source": [
    "# Sparse matrix"
   ]
  },
  {
   "cell_type": "code",
   "execution_count": 13,
   "metadata": {},
   "outputs": [],
   "source": [
    "sparse_matrix = dict()\n",
    "word_id = 0\n",
    "for file in dict_tokenized_files:\n",
    "    \n",
    "    uq_in_doc = set( file[ 'words' ] )\n",
    "    for word in uq_in_doc:\n",
    "        try:\n",
    "            sparse_matrix[ word ][ 'docs' ] = sparse_matrix[ word ][ 'docs' ] + 1\n",
    "        except KeyError:\n",
    "            sparse_matrix[ word ] = dict()\n",
    "            sparse_matrix[ word ][ 'docs' ] = 1\n",
    "            sparse_matrix[ word ][ 'word_id' ] = word_id\n",
    "            word_id += 1\n",
    "    \n",
    "    frecs_by_doc = Counter()\n",
    "    frecs_by_doc.update( file[ 'words' ] )\n",
    "    frecs_by_doc = dict( frecs_by_doc )\n",
    "    for word in frecs_by_doc:\n",
    "        try:\n",
    "            sparse_matrix[ word ][ 'frecs_by_doc' ][ file[ 'doc_id' ] ] = frecs_by_doc[ word ]\n",
    "        except KeyError:\n",
    "            sparse_matrix[ word ][ 'frecs_by_doc' ] = dict()\n",
    "            sparse_matrix[ word ][ 'frecs_by_doc' ][ file[ 'doc_id' ] ] = frecs_by_doc[ word ]"
   ]
  },
  {
   "cell_type": "code",
   "execution_count": 15,
   "metadata": {},
   "outputs": [],
   "source": [
    "#sparse_matrix"
   ]
  },
  {
   "cell_type": "code",
   "execution_count": 16,
   "metadata": {},
   "outputs": [
    {
     "data": {
      "text/plain": [
       "19886"
      ]
     },
     "execution_count": 16,
     "metadata": {},
     "output_type": "execute_result"
    }
   ],
   "source": [
    "# Vocabulary size\n",
    "len( sparse_matrix )"
   ]
  },
  {
   "cell_type": "code",
   "execution_count": 17,
   "metadata": {},
   "outputs": [
    {
     "name": "stdout",
     "output_type": "stream",
     "text": [
      "[('the', 25662), ('of', 18638), ('and', 14131), ('a', 13345), ('to', 11536), ('in', 10067), ('for', 7379), ('is', 6577), ('we', 5138), ('that', 4820), ('this', 4446), ('are', 3737), ('on', 3656), ('an', 3281), ('with', 3200), ('as', 3057), ('by', 2765), ('data', 2691), ('be', 2500), ('information', 2322)]\n"
     ]
    }
   ],
   "source": [
    "# Top words\n",
    "total_frecuencies = []\n",
    "for word in sparse_matrix:\n",
    "    total_frecuencies.append( ( word, sum( sparse_matrix[ word ][ 'frecs_by_doc' ].values() ) ) )\n",
    "total_frecuencies = sorted( total_frecuencies, key = lambda x: x[ 1 ], reverse = True )\n",
    "top_20 = total_frecuencies[ :20 ]\n",
    "print( top_20 )"
   ]
  },
  {
   "cell_type": "code",
   "execution_count": 18,
   "metadata": {},
   "outputs": [
    {
     "name": "stdout",
     "output_type": "stream",
     "text": [
      "['the', 'of', 'and', 'a', 'to', 'in', 'for', 'is', 'we', 'that', 'this', 'are', 'on', 'an', 'with', 'as', 'by', 'be']\n"
     ]
    }
   ],
   "source": [
    "# Which are stopwords\n",
    "which_stops = []\n",
    "for word in top_20:\n",
    "    if word[ 0 ] in stopwords:\n",
    "        which_stops.append( word[ 0 ] )\n",
    "print( which_stops )"
   ]
  },
  {
   "cell_type": "code",
   "execution_count": 19,
   "metadata": {},
   "outputs": [
    {
     "name": "stdout",
     "output_type": "stream",
     "text": [
      "['the', 'of', 'and', 'a']\n"
     ]
    }
   ],
   "source": [
    "# 15%\n",
    "total_words_15 = total_words * 0.15\n",
    "acum = 0\n",
    "words_15 = []\n",
    "for word in total_frecuencies:\n",
    "    if acum <= total_words_15:\n",
    "        words_15.append( word[ 0 ] )\n",
    "        acum += word[ 1 ]\n",
    "print( words_15 )"
   ]
  },
  {
   "cell_type": "code",
   "execution_count": null,
   "metadata": {},
   "outputs": [],
   "source": []
  }
 ],
 "metadata": {
  "kernelspec": {
   "display_name": "Python 3",
   "language": "python",
   "name": "python3"
  },
  "language_info": {
   "codemirror_mode": {
    "name": "ipython",
    "version": 3
   },
   "file_extension": ".py",
   "mimetype": "text/x-python",
   "name": "python",
   "nbconvert_exporter": "python",
   "pygments_lexer": "ipython3",
   "version": "3.6.4"
  }
 },
 "nbformat": 4,
 "nbformat_minor": 2
}
