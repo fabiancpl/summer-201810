{
 "cells": [
  {
   "cell_type": "code",
   "execution_count": null,
   "metadata": {},
   "outputs": [],
   "source": [
    "from os import listdir\n",
    "from os.path import isfile, join\n",
    "from string import punctuation\n",
    "from collections import Counter\n",
    "from nltk.stem import PorterStemmer\n",
    "import operator\n",
    "import math"
   ]
  },
  {
   "cell_type": "code",
   "execution_count": null,
   "metadata": {},
   "outputs": [],
   "source": [
    "ps = PorterStemmer()"
   ]
  },
  {
   "cell_type": "markdown",
   "metadata": {},
   "source": [
    "# Stopwords"
   ]
  },
  {
   "cell_type": "code",
   "execution_count": null,
   "metadata": {},
   "outputs": [],
   "source": [
    "with open( './data/stopwords.txt', 'r' ) as f:\n",
    "    stopwords = f.readlines()\n",
    "stopwords = [ x.strip() for x in stopwords ] "
   ]
  },
  {
   "cell_type": "markdown",
   "metadata": {},
   "source": [
    "# Reading files"
   ]
  },
  {
   "cell_type": "code",
   "execution_count": null,
   "metadata": {},
   "outputs": [],
   "source": [
    "mypath = './data/citeseer/'"
   ]
  },
  {
   "cell_type": "code",
   "execution_count": null,
   "metadata": {},
   "outputs": [],
   "source": [
    "onlyfiles = [ f for f in listdir( mypath ) if isfile( join( mypath, f ) ) ]"
   ]
  },
  {
   "cell_type": "code",
   "execution_count": null,
   "metadata": {},
   "outputs": [],
   "source": [
    "dict_files = []\n",
    "for file in onlyfiles:\n",
    "    with open( mypath + file, 'r' ) as myfile:\n",
    "        dict_files.append( { 'doc_id' : onlyfiles.index( file ), 'content' : myfile.read().replace( '\\n', '' ) } )"
   ]
  },
  {
   "cell_type": "code",
   "execution_count": null,
   "metadata": {},
   "outputs": [],
   "source": [
    "num_files = len( dict_files )\n",
    "print( num_files )"
   ]
  },
  {
   "cell_type": "code",
   "execution_count": null,
   "metadata": {},
   "outputs": [],
   "source": [
    "#dict_files[ 0 ]"
   ]
  },
  {
   "cell_type": "markdown",
   "metadata": {},
   "source": [
    "# Tokenization and removing punctuation"
   ]
  },
  {
   "cell_type": "code",
   "execution_count": null,
   "metadata": {},
   "outputs": [],
   "source": [
    "punctuation"
   ]
  },
  {
   "cell_type": "code",
   "execution_count": null,
   "metadata": {},
   "outputs": [],
   "source": [
    "dict_tokenized_files = []\n",
    "for file in dict_files:\n",
    "    words = ''.join( c.lower() for c in file[ 'content' ] if ( c not in punctuation ) ).split()\n",
    "    words2 = []\n",
    "    for word in words:\n",
    "        word = ps.stem( word )\n",
    "        if word not in stopwords:\n",
    "            words2.append( word )\n",
    "    dict_tokenized_files.append( { 'doc_id' : file[ 'doc_id' ], 'words' : words2 } )"
   ]
  },
  {
   "cell_type": "code",
   "execution_count": null,
   "metadata": {},
   "outputs": [],
   "source": [
    "# Number of documents\n",
    "len( dict_tokenized_files )"
   ]
  },
  {
   "cell_type": "code",
   "execution_count": null,
   "metadata": {},
   "outputs": [],
   "source": [
    "# Total number of words in the collection\n",
    "total_words = 0\n",
    "for file in dict_tokenized_files:\n",
    "    total_words += len( file[ 'words' ] )\n",
    "print( total_words )"
   ]
  },
  {
   "cell_type": "code",
   "execution_count": null,
   "metadata": {},
   "outputs": [],
   "source": [
    "#dict_tokenized_files"
   ]
  },
  {
   "cell_type": "markdown",
   "metadata": {},
   "source": [
    "# Sparse matrix"
   ]
  },
  {
   "cell_type": "code",
   "execution_count": null,
   "metadata": {},
   "outputs": [],
   "source": [
    "sparse_matrix = dict()\n",
    "word_id = 0\n",
    "for file in dict_tokenized_files:\n",
    "    \n",
    "    uq_in_doc = set( file[ 'words' ] )\n",
    "    for word in uq_in_doc:\n",
    "        try:\n",
    "            sparse_matrix[ word ][ 'docs' ] = sparse_matrix[ word ][ 'docs' ] + 1\n",
    "        except KeyError:\n",
    "            sparse_matrix[ word ] = dict()\n",
    "            sparse_matrix[ word ][ 'docs' ] = 1\n",
    "            sparse_matrix[ word ][ 'word_id' ] = word_id\n",
    "            word_id += 1\n",
    "    \n",
    "    frecs_by_doc = Counter()\n",
    "    frecs_by_doc.update( file[ 'words' ] )\n",
    "    frecs_by_doc = dict( frecs_by_doc )\n",
    "    for word in frecs_by_doc:\n",
    "        try:\n",
    "            sparse_matrix[ word ][ 'frecs_by_doc' ][ file[ 'doc_id' ] ] = frecs_by_doc[ word ]\n",
    "        except KeyError:\n",
    "            sparse_matrix[ word ][ 'frecs_by_doc' ] = dict()\n",
    "            sparse_matrix[ word ][ 'frecs_by_doc' ][ file[ 'doc_id' ] ] = frecs_by_doc[ word ]"
   ]
  },
  {
   "cell_type": "code",
   "execution_count": null,
   "metadata": {},
   "outputs": [],
   "source": [
    "#sparse_matrix"
   ]
  },
  {
   "cell_type": "code",
   "execution_count": null,
   "metadata": {},
   "outputs": [],
   "source": [
    "# Vocabulary size\n",
    "len( sparse_matrix )"
   ]
  },
  {
   "cell_type": "code",
   "execution_count": null,
   "metadata": {},
   "outputs": [],
   "source": [
    "# Top words\n",
    "total_frecuencies = []\n",
    "for word in sparse_matrix:\n",
    "    total_frecuencies.append( ( word, sum( sparse_matrix[ word ][ 'frecs_by_doc' ].values() ) ) )\n",
    "total_frecuencies = sorted( total_frecuencies, key = lambda x: x[ 1 ], reverse = True )\n",
    "top_20 = total_frecuencies[ :20 ]\n",
    "print( top_20 )"
   ]
  },
  {
   "cell_type": "code",
   "execution_count": null,
   "metadata": {},
   "outputs": [],
   "source": [
    "# Which are stopwords\n",
    "which_stops = []\n",
    "for word in top_20:\n",
    "    if word[ 0 ] in stopwords:\n",
    "        which_stops.append( word[ 0 ] )\n",
    "print( which_stops )"
   ]
  },
  {
   "cell_type": "code",
   "execution_count": null,
   "metadata": {},
   "outputs": [],
   "source": [
    "# 15%\n",
    "total_words_15 = total_words * 0.15\n",
    "acum = 0\n",
    "words_15 = []\n",
    "for word in total_frecuencies:\n",
    "    if acum <= total_words_15:\n",
    "        words_15.append( word[ 0 ] )\n",
    "        acum += word[ 1 ]\n",
    "print( words_15 )"
   ]
  },
  {
   "cell_type": "markdown",
   "metadata": {},
   "source": [
    "# TF-IDF"
   ]
  },
  {
   "cell_type": "code",
   "execution_count": null,
   "metadata": {},
   "outputs": [],
   "source": [
    "max_frecs_by_doc = []\n",
    "for file in dict_tokenized_files:\n",
    "    frecs_by_doc = Counter()\n",
    "    frecs_by_doc.update( file[ 'words' ] )\n",
    "    frecs_by_doc = frecs_by_doc.most_common( 1 )[ 0 ][ 1 ]\n",
    "    #frecs_by_doc = dict( frecs_by_doc )\n",
    "    max_frecs_by_doc.append( frecs_by_doc )"
   ]
  },
  {
   "cell_type": "code",
   "execution_count": null,
   "metadata": {},
   "outputs": [],
   "source": [
    "sparse_matrix_i = dict()\n",
    "for word, values in sparse_matrix.items():\n",
    "    df = sparse_matrix[ word ][ 'docs' ]\n",
    "    idf = math.log( num_files / df, 2.0 )\n",
    "    sparse_matrix_i[ word ] = dict()\n",
    "    sparse_matrix_i[ word ][ 'word_id' ] = sparse_matrix[ word ][ 'word_id' ]\n",
    "    sparse_matrix_i[ word ][ 'tfidf' ] = dict()\n",
    "    for doc, tf in sparse_matrix[ word ][ 'frecs_by_doc' ].items():\n",
    "        ifidf = ( tf / max_frecs_by_doc[ doc ] ) * idf\n",
    "        sparse_matrix_i[ word ][ 'tfidf' ][ doc ] = ifidf        "
   ]
  },
  {
   "cell_type": "code",
   "execution_count": null,
   "metadata": {},
   "outputs": [],
   "source": [
    "#sparse_matrix_i"
   ]
  },
  {
   "cell_type": "code",
   "execution_count": null,
   "metadata": {},
   "outputs": [],
   "source": [
    "for doc in range( 0, num_files )[ 1:3 ]:\n",
    "    print( 'Doc ID: ' + str( doc ) )\n",
    "    for word, values in sparse_matrix_i.items():\n",
    "        for d, tfidf in sparse_matrix_i[ word ][ 'tfidf' ].items():\n",
    "            if doc == d:\n",
    "                print( str( sparse_matrix_i[ word ][ 'word_id' ] ) + ' - ' + str( tfidf ) )"
   ]
  },
  {
   "cell_type": "code",
   "execution_count": null,
   "metadata": {},
   "outputs": [],
   "source": []
  }
 ],
 "metadata": {
  "kernelspec": {
   "display_name": "Python 3",
   "language": "python",
   "name": "python3"
  },
  "language_info": {
   "codemirror_mode": {
    "name": "ipython",
    "version": 3
   },
   "file_extension": ".py",
   "mimetype": "text/x-python",
   "name": "python",
   "nbconvert_exporter": "python",
   "pygments_lexer": "ipython3",
   "version": "3.6.4"
  }
 },
 "nbformat": 4,
 "nbformat_minor": 2
}
