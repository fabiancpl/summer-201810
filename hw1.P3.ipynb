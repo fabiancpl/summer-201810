{
 "cells": [
  {
   "cell_type": "code",
   "execution_count": 21,
   "metadata": {},
   "outputs": [],
   "source": [
    "from os import listdir\n",
    "from os.path import isfile, join\n",
    "from string import punctuation\n",
    "from collections import Counter\n",
    "from nltk.stem import PorterStemmer\n",
    "import math"
   ]
  },
  {
   "cell_type": "code",
   "execution_count": 2,
   "metadata": {},
   "outputs": [],
   "source": [
    "ps = PorterStemmer()"
   ]
  },
  {
   "cell_type": "markdown",
   "metadata": {},
   "source": [
    "# Stopwords"
   ]
  },
  {
   "cell_type": "code",
   "execution_count": 3,
   "metadata": {},
   "outputs": [],
   "source": [
    "with open( './data/stopwords.txt', 'r' ) as f:\n",
    "    stopwords = f.readlines()\n",
    "stopwords = [ x.strip() for x in stopwords ] "
   ]
  },
  {
   "cell_type": "markdown",
   "metadata": {},
   "source": [
    "# Reading files"
   ]
  },
  {
   "cell_type": "code",
   "execution_count": 4,
   "metadata": {},
   "outputs": [],
   "source": [
    "mypath = './data/citeseer/'"
   ]
  },
  {
   "cell_type": "code",
   "execution_count": 5,
   "metadata": {},
   "outputs": [],
   "source": [
    "onlyfiles = [ f for f in listdir( mypath ) if isfile( join( mypath, f ) ) ]"
   ]
  },
  {
   "cell_type": "code",
   "execution_count": 6,
   "metadata": {},
   "outputs": [],
   "source": [
    "dict_files = []\n",
    "for file in onlyfiles:\n",
    "    with open( mypath + file, 'r' ) as myfile:\n",
    "        dict_files.append( { 'doc_id' : onlyfiles.index( file ), 'content' : myfile.read().replace( '\\n', '' ) } )"
   ]
  },
  {
   "cell_type": "code",
   "execution_count": 7,
   "metadata": {},
   "outputs": [
    {
     "name": "stdout",
     "output_type": "stream",
     "text": [
      "3186\n"
     ]
    }
   ],
   "source": [
    "num_files = len( dict_files )\n",
    "print( num_files )"
   ]
  },
  {
   "cell_type": "code",
   "execution_count": 8,
   "metadata": {},
   "outputs": [],
   "source": [
    "#dict_files[ 0 ]"
   ]
  },
  {
   "cell_type": "markdown",
   "metadata": {},
   "source": [
    "# Tokenization and removing punctuation"
   ]
  },
  {
   "cell_type": "code",
   "execution_count": 9,
   "metadata": {},
   "outputs": [
    {
     "data": {
      "text/plain": [
       "'!\"#$%&\\'()*+,-./:;<=>?@[\\\\]^_`{|}~'"
      ]
     },
     "execution_count": 9,
     "metadata": {},
     "output_type": "execute_result"
    }
   ],
   "source": [
    "punctuation"
   ]
  },
  {
   "cell_type": "code",
   "execution_count": 10,
   "metadata": {},
   "outputs": [],
   "source": [
    "dict_tokenized_files = []\n",
    "for file in dict_files:\n",
    "    words = ''.join( c.lower() for c in file[ 'content' ] if ( c not in punctuation ) ).split()\n",
    "    words2 = []\n",
    "    for word in words:\n",
    "        word = ps.stem( word )\n",
    "        if word not in stopwords:\n",
    "            words2.append( word )\n",
    "    dict_tokenized_files.append( { 'doc_id' : file[ 'doc_id' ], 'words' : words2 } )"
   ]
  },
  {
   "cell_type": "code",
   "execution_count": 11,
   "metadata": {},
   "outputs": [
    {
     "data": {
      "text/plain": [
       "3186"
      ]
     },
     "execution_count": 11,
     "metadata": {},
     "output_type": "execute_result"
    }
   ],
   "source": [
    "# Number of documents\n",
    "len( dict_tokenized_files )"
   ]
  },
  {
   "cell_type": "code",
   "execution_count": 12,
   "metadata": {},
   "outputs": [
    {
     "name": "stdout",
     "output_type": "stream",
     "text": [
      "280812\n"
     ]
    }
   ],
   "source": [
    "# Total number of words in the collection\n",
    "total_words = 0\n",
    "for file in dict_tokenized_files:\n",
    "    total_words += len( file[ 'words' ] )\n",
    "print( total_words )"
   ]
  },
  {
   "cell_type": "markdown",
   "metadata": {},
   "source": [
    "# Sparse matrix"
   ]
  },
  {
   "cell_type": "code",
   "execution_count": 13,
   "metadata": {},
   "outputs": [],
   "source": [
    "sparse_matrix = dict()\n",
    "word_id = 0\n",
    "for file in dict_tokenized_files:\n",
    "    \n",
    "    uq_in_doc = set( file[ 'words' ] )\n",
    "    for word in uq_in_doc:\n",
    "        try:\n",
    "            sparse_matrix[ word ][ 'docs' ] = sparse_matrix[ word ][ 'docs' ] + 1\n",
    "        except KeyError:\n",
    "            sparse_matrix[ word ] = dict()\n",
    "            sparse_matrix[ word ][ 'docs' ] = 1\n",
    "            sparse_matrix[ word ][ 'word_id' ] = word_id\n",
    "            word_id += 1\n",
    "    \n",
    "    frecs_by_doc = Counter()\n",
    "    frecs_by_doc.update( file[ 'words' ] )\n",
    "    frecs_by_doc = dict( frecs_by_doc )\n",
    "    for word in frecs_by_doc:\n",
    "        try:\n",
    "            sparse_matrix[ word ][ 'frecs_by_doc' ][ file[ 'doc_id' ] ] = frecs_by_doc[ word ]\n",
    "        except KeyError:\n",
    "            sparse_matrix[ word ][ 'frecs_by_doc' ] = dict()\n",
    "            sparse_matrix[ word ][ 'frecs_by_doc' ][ file[ 'doc_id' ] ] = frecs_by_doc[ word ]"
   ]
  },
  {
   "cell_type": "code",
   "execution_count": 15,
   "metadata": {},
   "outputs": [],
   "source": [
    "#sparse_matrix"
   ]
  },
  {
   "cell_type": "code",
   "execution_count": 16,
   "metadata": {},
   "outputs": [
    {
     "data": {
      "text/plain": [
       "13589"
      ]
     },
     "execution_count": 16,
     "metadata": {},
     "output_type": "execute_result"
    }
   ],
   "source": [
    "# Vocabulary size\n",
    "len( sparse_matrix )"
   ]
  },
  {
   "cell_type": "code",
   "execution_count": 17,
   "metadata": {},
   "outputs": [
    {
     "name": "stdout",
     "output_type": "stream",
     "text": [
      "[('thi', 4446), ('system', 3741), ('data', 2691), ('agent', 2688), ('inform', 2398), ('model', 2315), ('paper', 2246), ('queri', 1905), ('user', 1756), ('learn', 1740), ('algorithm', 1584), ('1', 1552), ('approach', 1544), ('problem', 1543), ('applic', 1522), ('present', 1507), ('base', 1486), ('web', 1439), ('databas', 1424), ('comput', 1411)]\n"
     ]
    }
   ],
   "source": [
    "# Top words\n",
    "total_frecuencies = []\n",
    "for word in sparse_matrix:\n",
    "    total_frecuencies.append( ( word, sum( sparse_matrix[ word ][ 'frecs_by_doc' ].values() ) ) )\n",
    "total_frecuencies = sorted( total_frecuencies, key = lambda x: x[ 1 ], reverse = True )\n",
    "top_20 = total_frecuencies[ :20 ]\n",
    "print( top_20 )"
   ]
  },
  {
   "cell_type": "code",
   "execution_count": 18,
   "metadata": {},
   "outputs": [
    {
     "name": "stdout",
     "output_type": "stream",
     "text": [
      "[]\n"
     ]
    }
   ],
   "source": [
    "# Which are stopwords\n",
    "which_stops = []\n",
    "for word in top_20:\n",
    "    if word[ 0 ] in stopwords:\n",
    "        which_stops.append( word[ 0 ] )\n",
    "print( which_stops )"
   ]
  },
  {
   "cell_type": "code",
   "execution_count": 19,
   "metadata": {},
   "outputs": [
    {
     "name": "stdout",
     "output_type": "stream",
     "text": [
      "['thi', 'system', 'data', 'agent', 'inform', 'model', 'paper', 'queri', 'user', 'learn', 'algorithm', '1', 'approach', 'problem', 'applic', 'present', 'base', 'web', 'databas', 'comput', 'method']\n"
     ]
    }
   ],
   "source": [
    "# 15%\n",
    "total_words_15 = total_words * 0.15\n",
    "acum = 0\n",
    "words_15 = []\n",
    "for word in total_frecuencies:\n",
    "    if acum <= total_words_15:\n",
    "        words_15.append( word[ 0 ] )\n",
    "        acum += word[ 1 ]\n",
    "print( words_15 )"
   ]
  },
  {
   "cell_type": "markdown",
   "metadata": {},
   "source": [
    "# TF-IDF"
   ]
  },
  {
   "cell_type": "code",
   "execution_count": 31,
   "metadata": {},
   "outputs": [],
   "source": [
    "sparse_matrix_i = dict()\n",
    "for word, values in sparse_matrix.items():\n",
    "    df = sparse_matrix[ word ][ 'docs' ]\n",
    "    idf = math.log( num_files / df, 2.0 )\n",
    "    sparse_matrix_i[ word ] = dict()\n",
    "    sparse_matrix_i[ word ][ 'word_id' ] = sparse_matrix[ word ][ 'word_id' ]\n",
    "    sparse_matrix_i[ word ][ 'tfidf' ] = dict()\n",
    "    for doc, tf in sparse_matrix[ word ][ 'frecs_by_doc' ].items():\n",
    "        ifidf = tf * idf\n",
    "        sparse_matrix_i[ word ][ 'tfidf' ][ doc ] = ifidf        "
   ]
  },
  {
   "cell_type": "code",
   "execution_count": 32,
   "metadata": {},
   "outputs": [],
   "source": [
    "#sparse_matrix_i"
   ]
  },
  {
   "cell_type": "code",
   "execution_count": 34,
   "metadata": {},
   "outputs": [
    {
     "name": "stdout",
     "output_type": "stream",
     "text": [
      "Doc ID: 1\n",
      "2 - 5.378326639881265\n",
      "5 - 1.2462869620978676\n",
      "21 - 1.7733444068710296\n",
      "27 - 1.445237737054543\n",
      "31 - 0.6334600052873457\n",
      "35 - 1.7053157995569246\n",
      "37 - 1.7733444068710296\n",
      "43 - 2.2154657853524977\n",
      "44 - 13.168069643596917\n",
      "49 - 26.922559823667164\n",
      "50 - 3.0906360916376734\n",
      "51 - 18.83993564072168\n",
      "52 - 2.933626978080646\n",
      "53 - 9.052568050804155\n",
      "54 - 7.67326130321001\n",
      "55 - 6.683334241138436\n",
      "56 - 6.352128332663061\n",
      "57 - 4.0081739314457\n",
      "58 - 3.4526552086170264\n",
      "59 - 4.082941699847672\n",
      "60 - 7.550067710274971\n",
      "61 - 9.315602456637949\n",
      "62 - 5.067674943194362\n",
      "63 - 9.63753055152531\n",
      "64 - 6.779549556397738\n",
      "65 - 30.157704152412464\n",
      "66 - 5.145677455195635\n",
      "67 - 7.63753055152531\n",
      "68 - 4.951030024342091\n",
      "69 - 2.2581521844540475\n",
      "70 - 4.671746266863223\n",
      "71 - 23.490526888403117\n",
      "72 - 9.93021041910763\n",
      "73 - 4.546791793034516\n",
      "74 - 11.637530551525309\n",
      "75 - 5.263812004662864\n",
      "76 - 6.47325086248863\n",
      "77 - 9.315602456637949\n",
      "78 - 10.49393759737955\n",
      "79 - 9.315602456637949\n",
      "80 - 8.830175629467707\n",
      "81 - 0.7842209961216352\n",
      "82 - 7.178098932888013\n",
      "83 - 5.993674361750585\n",
      "84 - 4.060101723489561\n",
      "85 - 6.695023409185382\n",
      "86 - 4.315602456637948\n",
      "87 - 11.637530551525309\n",
      "88 - 7.389603038081724\n",
      "89 - 3.7427127882173665\n",
      "90 - 4.706793213962424\n",
      "91 - 4.742712788217367\n",
      "92 - 10.61849540569435\n",
      "93 - 8.467605550082997\n",
      "94 - 7.830175629467706\n",
      "95 - 3.413528877327205\n",
      "96 - 4.923285033859187\n",
      "97 - 2.916431362818125\n",
      "98 - 6.937090833384218\n",
      "99 - 5.315602456637947\n",
      "100 - 7.178098932888013\n",
      "101 - 6.937090833384218\n",
      "102 - 6.211265796823212\n",
      "103 - 2.8859864924362117\n",
      "104 - 5.263812004662864\n",
      "105 - 5.352128332663062\n",
      "106 - 37.262409826551796\n",
      "107 - 2.1476825910860122\n",
      "108 - 10.63753055152531\n",
      "109 - 28.912591654575934\n"
     ]
    }
   ],
   "source": [
    "for doc in range( 0, num_files )[ 1:2 ]:\n",
    "    print( 'Doc ID: ' + str( doc ) )\n",
    "    for word, values in sparse_matrix_i.items():\n",
    "        for d, tfidf in sparse_matrix_i[ word ][ 'tfidf' ].items():\n",
    "            if doc == d:\n",
    "                print( str( sparse_matrix_i[ word ][ 'word_id' ] ) + ' - ' + str( tfidf ) )"
   ]
  },
  {
   "cell_type": "code",
   "execution_count": null,
   "metadata": {},
   "outputs": [],
   "source": []
  }
 ],
 "metadata": {
  "kernelspec": {
   "display_name": "Python 3",
   "language": "python",
   "name": "python3"
  },
  "language_info": {
   "codemirror_mode": {
    "name": "ipython",
    "version": 3
   },
   "file_extension": ".py",
   "mimetype": "text/x-python",
   "name": "python",
   "nbconvert_exporter": "python",
   "pygments_lexer": "ipython3",
   "version": "3.6.4"
  }
 },
 "nbformat": 4,
 "nbformat_minor": 2
}
